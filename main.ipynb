{
 "cells": [
  {
   "cell_type": "markdown",
   "metadata": {},
   "source": [
    "# gradient descent"
   ]
  },
  {
   "cell_type": "code",
   "execution_count": null,
   "metadata": {},
   "outputs": [],
   "source": [
    "knob_weight = 0.5\n",
    "input = 0.5\n",
    "goal_pred = 0.8\n",
    "\n",
    "pred = input * knob_weight\n",
    "error = (pred - goal_pred) ** 2\n",
    "\n",
    "print(error)"
   ]
  },
  {
   "cell_type": "markdown",
   "metadata": {},
   "source": [
    "# hot and cold learning"
   ]
  },
  {
   "cell_type": "code",
   "execution_count": 9,
   "metadata": {},
   "outputs": [],
   "source": [
    "def neural_network(input, weight):\n",
    "    predictions = input * weight\n",
    "    return predictions"
   ]
  },
  {
   "cell_type": "code",
   "execution_count": 10,
   "metadata": {},
   "outputs": [],
   "source": [
    "lr = 0.01\n",
    "weight = 0.1\n",
    "number_of_toes = [8.5]\n",
    "win_or_lose = [0]\n",
    "input = number_of_toes[0]\n",
    "true = win_or_lose[0]"
   ]
  },
  {
   "cell_type": "code",
   "execution_count": null,
   "metadata": {},
   "outputs": [],
   "source": [
    "for iteration in range(100):\n",
    "\n",
    "    pred = neural_network(input, weight)\n",
    "    error = (pred - true)**2\n",
    "    \n",
    "    pred_up = neural_network(input, weight+lr)\n",
    "    error_up = (pred_up - true)**2      \n",
    "    \n",
    "    pred_dn = neural_network(input, weight-lr)\n",
    "    error_dn = (pred_dn - true)**2\n",
    " \n",
    "\n",
    "    if error_dn > error_up:\n",
    "        weight += lr \n",
    "    else:\n",
    "        weight -= lr \n",
    "        \n",
    "    if iteration % 1 == 0:\n",
    "        print(f\"{error: .4f}\")\n",
    "        \n",
    "        "
   ]
  },
  {
   "cell_type": "markdown",
   "metadata": {},
   "source": [
    "# finding direction and amount from error"
   ]
  },
  {
   "cell_type": "code",
   "execution_count": 13,
   "metadata": {},
   "outputs": [
    {
     "name": "stdout",
     "output_type": "stream",
     "text": [
      "Error :  0.3025, Prediction:  0.2500\n",
      "Error :  0.1702, Prediction:  0.3875\n",
      "Error :  0.0957, Prediction:  0.4906\n",
      "Error :  0.0538, Prediction:  0.5680\n",
      "Error :  0.0303, Prediction:  0.6260\n",
      "Error :  0.0170, Prediction:  0.6695\n",
      "Error :  0.0096, Prediction:  0.7021\n",
      "Error :  0.0054, Prediction:  0.7266\n",
      "Error :  0.0030, Prediction:  0.7449\n",
      "Error :  0.0017, Prediction:  0.7587\n",
      "Error :  0.0010, Prediction:  0.7690\n",
      "Error :  0.0005, Prediction:  0.7768\n",
      "Error :  0.0003, Prediction:  0.7826\n",
      "Error :  0.0002, Prediction:  0.7869\n",
      "Error :  0.0001, Prediction:  0.7902\n",
      "Error :  0.0001, Prediction:  0.7927\n",
      "Error :  0.0000, Prediction:  0.7945\n",
      "Error :  0.0000, Prediction:  0.7959\n",
      "Error :  0.0000, Prediction:  0.7969\n",
      "Error :  0.0000, Prediction:  0.7977\n"
     ]
    }
   ],
   "source": [
    "weight = 0.5\n",
    "goal_pred = 0.8\n",
    "input = 0.5\n",
    "\n",
    "for iteration in range(20):\n",
    "    pred = input * weight\n",
    "    error = (pred - goal_pred) ** 2\n",
    "    direction_and_amount = (pred - goal_pred) * input\n",
    "    weight = weight - direction_and_amount\n",
    "    \n",
    "    print(f\"Error : {error: .4f}, Prediction: {pred: .4f}\")"
   ]
  },
  {
   "cell_type": "markdown",
   "metadata": {},
   "source": [
    "- changing input to 2"
   ]
  },
  {
   "cell_type": "code",
   "execution_count": 6,
   "metadata": {},
   "outputs": [
    {
     "name": "stdout",
     "output_type": "stream",
     "text": [
      "Error :  0.0400, Prediction:  1.0000\n",
      "Error :  0.0144, Prediction:  0.9200\n",
      "Error :  0.0052, Prediction:  0.8720\n",
      "Error :  0.0019, Prediction:  0.8432\n",
      "Error :  0.0007, Prediction:  0.8259\n",
      "Error :  0.0002, Prediction:  0.8156\n",
      "Error :  0.0001, Prediction:  0.8093\n",
      "Error :  0.0000, Prediction:  0.8056\n",
      "Error :  0.0000, Prediction:  0.8034\n",
      "Error :  0.0000, Prediction:  0.8020\n",
      "Error :  0.0000, Prediction:  0.8012\n",
      "Error :  0.0000, Prediction:  0.8007\n",
      "Error :  0.0000, Prediction:  0.8004\n",
      "Error :  0.0000, Prediction:  0.8003\n",
      "Error :  0.0000, Prediction:  0.8002\n",
      "Error :  0.0000, Prediction:  0.8001\n",
      "Error :  0.0000, Prediction:  0.8001\n",
      "Error :  0.0000, Prediction:  0.8000\n",
      "Error :  0.0000, Prediction:  0.8000\n",
      "Error :  0.0000, Prediction:  0.8000\n"
     ]
    }
   ],
   "source": [
    "weight = 0.5\n",
    "goal_pred = 0.8\n",
    "input = 2\n",
    "alpha = 0.1\n",
    "\n",
    "for iteration in range(20):\n",
    "    pred = input * weight\n",
    "    error = (pred - goal_pred) ** 2\n",
    "    direction_and_amount = (pred - goal_pred) * input\n",
    "    change = direction_and_amount * alpha\n",
    "    weight = weight - change\n",
    "    \n",
    "    print(f\"Error : {error: .4f}, Prediction: {pred: .4f}\")"
   ]
  },
  {
   "cell_type": "markdown",
   "metadata": {},
   "source": [
    "- the outputs have exploded here\n",
    "- and was corrected by setting the alpha values to 0.1"
   ]
  },
  {
   "cell_type": "markdown",
   "metadata": {},
   "source": [
    "# multiple inputs"
   ]
  },
  {
   "cell_type": "code",
   "execution_count": 4,
   "metadata": {},
   "outputs": [],
   "source": [
    "def neural_network(input, weights):\n",
    "    out = 0\n",
    "    for i in range(len(input)):\n",
    "        out += input[i] * weights[i]\n",
    "    return out\n",
    "\n",
    "def ele_mul(scaler, vector):\n",
    "    out = [0, 0, 0]\n",
    "    for i in range(len(vector)):\n",
    "        out[i] = scaler * vector[i]\n",
    "    return out"
   ]
  },
  {
   "cell_type": "code",
   "execution_count": 5,
   "metadata": {},
   "outputs": [
    {
     "data": {
      "text/plain": [
       "0.997571162993086"
      ]
     },
     "execution_count": 5,
     "metadata": {},
     "output_type": "execute_result"
    }
   ],
   "source": [
    "toes = [8.5, 9.5, 9.9, 9.0] \n",
    "wlrec = [0.65, 0.8, 0.8, 0.9] \n",
    "nfans = [1.2, 1.3, 0.5, 1.0]\n",
    "\n",
    "wins_or_lose = [1, 1, 0, 1]\n",
    "true = wins_or_lose[0]\n",
    "\n",
    "alpha = 0.01\n",
    "weights = [0.1, 0.2, -0.1]\n",
    "input = [toes[0], wlrec[0], nfans[0]]\n",
    "\n",
    "# training\n",
    "for i in range(3):\n",
    "    pred = neural_network(input, weights)\n",
    "    \n",
    "    error = (pred - true) ** 2\n",
    "    delta = pred - true\n",
    "    \n",
    "    weighted_deltas = ele_mul(delta, input)\n",
    "    \n",
    "    for i in range(len(input)):\n",
    "        weights[i] -= weighted_deltas[i] * alpha\n",
    "        \n",
    "neural_network(input, weights)"
   ]
  },
  {
   "cell_type": "markdown",
   "metadata": {},
   "source": [
    "# multiple outputs"
   ]
  },
  {
   "cell_type": "code",
   "execution_count": 7,
   "metadata": {},
   "outputs": [
    {
     "name": "stdout",
     "output_type": "stream",
     "text": [
      "[0.37974935609374866, 0.2060984801718749, 0.9112587326249998]\n"
     ]
    }
   ],
   "source": [
    "weights = [0.3, 0.2, 0.9]\n",
    "wlrec = [0.65, 1.0, 1.0, 0.9]\n",
    "\n",
    "hurt = [0.1, 0.0, 0.0, 0.1] \n",
    "win = [ 1, 1, 0, 1] \n",
    "sad = [0.1, 0.0, 0.1, 0.2]\n",
    "\n",
    "input = wlrec[0]\n",
    "true = [hurt[0], win[0], sad[0]]\n",
    "\n",
    "def neural_network(input, weights):\n",
    "    pred = ele_mul(input, weights)\n",
    "    return pred\n",
    "\n",
    "pred = neural_network(input, weights)\n",
    "\n",
    "errors = [0, 0, 0]\n",
    "deltas = [0, 0, 0]\n",
    "for i in range(len(pred)):\n",
    "    errors[i] = (pred[i] - true[i]) ** 2\n",
    "    deltas[i] = pred[i] - true[i]\n",
    "    \n",
    "weight_deltas = ele_mul(input, deltas)\n",
    "\n",
    "for i in range(len(weight_deltas)):\n",
    "    weights[i] -= weighted_deltas[i]\n",
    "    \n",
    "print(weights)"
   ]
  },
  {
   "cell_type": "markdown",
   "metadata": {},
   "source": [
    "# multiple inputs and outputs"
   ]
  },
  {
   "cell_type": "code",
   "execution_count": 14,
   "metadata": {},
   "outputs": [],
   "source": [
    "weights = [ [0.1, 0.1, -0.3],# hurt? \n",
    "           [0.1, 0.2, 0.0], # win?\n",
    "           [0.0, 1.3, 0.1] ]# sad?\n",
    "\n",
    "def vec_mat_mul(vector, matrix):\n",
    "    output = [0, 0, 0]\n",
    "    for i in range(len(matrix)):\n",
    "        for j in range(len(matrix[0])):\n",
    "            output[i] += vector[i] * matrix[i][j]\n",
    "    return output"
   ]
  },
  {
   "cell_type": "code",
   "execution_count": 15,
   "metadata": {},
   "outputs": [
    {
     "name": "stdout",
     "output_type": "stream",
     "text": [
      "input: [8.5, 0.65, 1.2]\n",
      "output: [0.1, 1, 0.1]\n"
     ]
    }
   ],
   "source": [
    "toes = [8.5, 9.5, 9.9, 9.0] \n",
    "wlrec = [0.65,0.8, 0.8, 0.9] \n",
    "nfans = [1.2, 1.3, 0.5, 1.0]\n",
    "inputs = [toes[0],wlrec[0],nfans[0]]\n",
    "print(f\"input: {input}\")\n",
    "\n",
    "hurt = [0.1, 0.0, 0.0, 0.1] \n",
    "win = [ 1, 1, 0, 1] \n",
    "sad = [0.1, 0.0, 0.1, 0.2]\n",
    "true = [hurt[0], win[0], sad[0]]\n",
    "print(f\"output: {true}\")"
   ]
  },
  {
   "cell_type": "code",
   "execution_count": 16,
   "metadata": {},
   "outputs": [],
   "source": [
    "def neural_network(inputs, weights):\n",
    "    pred = vec_mat_mul(inputs, weights)\n",
    "    return pred"
   ]
  },
  {
   "cell_type": "code",
   "execution_count": 17,
   "metadata": {},
   "outputs": [],
   "source": [
    "pred = neural_network(inputs, weights)"
   ]
  }
 ],
 "metadata": {
  "kernelspec": {
   "display_name": "Python 3",
   "language": "python",
   "name": "python3"
  },
  "language_info": {
   "codemirror_mode": {
    "name": "ipython",
    "version": 3
   },
   "file_extension": ".py",
   "mimetype": "text/x-python",
   "name": "python",
   "nbconvert_exporter": "python",
   "pygments_lexer": "ipython3",
   "version": "3.12.1"
  }
 },
 "nbformat": 4,
 "nbformat_minor": 2
}
