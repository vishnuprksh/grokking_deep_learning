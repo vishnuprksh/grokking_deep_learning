{
 "cells": [
  {
   "cell_type": "markdown",
   "metadata": {},
   "source": [
    "# gradient descent"
   ]
  },
  {
   "cell_type": "code",
   "execution_count": null,
   "metadata": {},
   "outputs": [],
   "source": [
    "knob_weight = 0.5\n",
    "input = 0.5\n",
    "goal_pred = 0.8\n",
    "\n",
    "pred = input * knob_weight\n",
    "error = (pred - goal_pred) ** 2\n",
    "\n",
    "print(error)"
   ]
  },
  {
   "cell_type": "markdown",
   "metadata": {},
   "source": [
    "# hot and cold learning"
   ]
  },
  {
   "cell_type": "code",
   "execution_count": 9,
   "metadata": {},
   "outputs": [],
   "source": [
    "def neural_network(input, weight):\n",
    "    predictions = input * weight\n",
    "    return predictions"
   ]
  },
  {
   "cell_type": "code",
   "execution_count": 10,
   "metadata": {},
   "outputs": [],
   "source": [
    "lr = 0.01\n",
    "weight = 0.1\n",
    "number_of_toes = [8.5]\n",
    "win_or_lose = [0]\n",
    "input = number_of_toes[0]\n",
    "true = win_or_lose[0]"
   ]
  },
  {
   "cell_type": "code",
   "execution_count": null,
   "metadata": {},
   "outputs": [],
   "source": [
    "for iteration in range(100):\n",
    "\n",
    "    pred = neural_network(input, weight)\n",
    "    error = (pred - true)**2\n",
    "    \n",
    "    pred_up = neural_network(input, weight+lr)\n",
    "    error_up = (pred_up - true)**2      \n",
    "    \n",
    "    pred_dn = neural_network(input, weight-lr)\n",
    "    error_dn = (pred_dn - true)**2\n",
    " \n",
    "\n",
    "    if error_dn > error_up:\n",
    "        weight += lr \n",
    "    else:\n",
    "        weight -= lr \n",
    "        \n",
    "    if iteration % 1 == 0:\n",
    "        print(f\"{error: .4f}\")\n",
    "        \n",
    "        "
   ]
  },
  {
   "cell_type": "markdown",
   "metadata": {},
   "source": [
    "# finding direction and amount from error"
   ]
  },
  {
   "cell_type": "code",
   "execution_count": 13,
   "metadata": {},
   "outputs": [
    {
     "name": "stdout",
     "output_type": "stream",
     "text": [
      "Error :  0.3025, Prediction:  0.2500\n",
      "Error :  0.1702, Prediction:  0.3875\n",
      "Error :  0.0957, Prediction:  0.4906\n",
      "Error :  0.0538, Prediction:  0.5680\n",
      "Error :  0.0303, Prediction:  0.6260\n",
      "Error :  0.0170, Prediction:  0.6695\n",
      "Error :  0.0096, Prediction:  0.7021\n",
      "Error :  0.0054, Prediction:  0.7266\n",
      "Error :  0.0030, Prediction:  0.7449\n",
      "Error :  0.0017, Prediction:  0.7587\n",
      "Error :  0.0010, Prediction:  0.7690\n",
      "Error :  0.0005, Prediction:  0.7768\n",
      "Error :  0.0003, Prediction:  0.7826\n",
      "Error :  0.0002, Prediction:  0.7869\n",
      "Error :  0.0001, Prediction:  0.7902\n",
      "Error :  0.0001, Prediction:  0.7927\n",
      "Error :  0.0000, Prediction:  0.7945\n",
      "Error :  0.0000, Prediction:  0.7959\n",
      "Error :  0.0000, Prediction:  0.7969\n",
      "Error :  0.0000, Prediction:  0.7977\n"
     ]
    }
   ],
   "source": [
    "weight = 0.5\n",
    "goal_pred = 0.8\n",
    "input = 0.5\n",
    "\n",
    "for iteration in range(20):\n",
    "    pred = input * weight\n",
    "    error = (pred - goal_pred) ** 2\n",
    "    direction_and_amount = (pred - goal_pred) * input\n",
    "    weight = weight - direction_and_amount\n",
    "    \n",
    "    print(f\"Error : {error: .4f}, Prediction: {pred: .4f}\")"
   ]
  },
  {
   "cell_type": "markdown",
   "metadata": {},
   "source": [
    "- changing input to 2"
   ]
  },
  {
   "cell_type": "code",
   "execution_count": 6,
   "metadata": {},
   "outputs": [
    {
     "name": "stdout",
     "output_type": "stream",
     "text": [
      "Error :  0.0400, Prediction:  1.0000\n",
      "Error :  0.0144, Prediction:  0.9200\n",
      "Error :  0.0052, Prediction:  0.8720\n",
      "Error :  0.0019, Prediction:  0.8432\n",
      "Error :  0.0007, Prediction:  0.8259\n",
      "Error :  0.0002, Prediction:  0.8156\n",
      "Error :  0.0001, Prediction:  0.8093\n",
      "Error :  0.0000, Prediction:  0.8056\n",
      "Error :  0.0000, Prediction:  0.8034\n",
      "Error :  0.0000, Prediction:  0.8020\n",
      "Error :  0.0000, Prediction:  0.8012\n",
      "Error :  0.0000, Prediction:  0.8007\n",
      "Error :  0.0000, Prediction:  0.8004\n",
      "Error :  0.0000, Prediction:  0.8003\n",
      "Error :  0.0000, Prediction:  0.8002\n",
      "Error :  0.0000, Prediction:  0.8001\n",
      "Error :  0.0000, Prediction:  0.8001\n",
      "Error :  0.0000, Prediction:  0.8000\n",
      "Error :  0.0000, Prediction:  0.8000\n",
      "Error :  0.0000, Prediction:  0.8000\n"
     ]
    }
   ],
   "source": [
    "weight = 0.5\n",
    "goal_pred = 0.8\n",
    "input = 2\n",
    "alpha = 0.1\n",
    "\n",
    "for iteration in range(20):\n",
    "    pred = input * weight\n",
    "    error = (pred - goal_pred) ** 2\n",
    "    direction_and_amount = (pred - goal_pred) * input\n",
    "    change = direction_and_amount * alpha\n",
    "    weight = weight - change\n",
    "    \n",
    "    print(f\"Error : {error: .4f}, Prediction: {pred: .4f}\")"
   ]
  },
  {
   "cell_type": "markdown",
   "metadata": {},
   "source": [
    "- the outputs have exploded here\n",
    "- and was corrected by setting the alpha values to 0.1"
   ]
  },
  {
   "cell_type": "code",
   "execution_count": null,
   "metadata": {},
   "outputs": [],
   "source": []
  }
 ],
 "metadata": {
  "kernelspec": {
   "display_name": ".venv",
   "language": "python",
   "name": "python3"
  },
  "language_info": {
   "codemirror_mode": {
    "name": "ipython",
    "version": 3
   },
   "file_extension": ".py",
   "mimetype": "text/x-python",
   "name": "python",
   "nbconvert_exporter": "python",
   "pygments_lexer": "ipython3",
   "version": "3.12.8"
  }
 },
 "nbformat": 4,
 "nbformat_minor": 2
}
